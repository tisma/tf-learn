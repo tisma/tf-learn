{
  "nbformat": 4,
  "nbformat_minor": 0,
  "metadata": {
    "coursera": {
      "course_slug": "tensor-flow-2-1",
      "graded_item_id": "JaRY0",
      "launcher_item_id": "mJ8fg"
    },
    "kernelspec": {
      "display_name": "Python 3",
      "name": "python3"
    },
    "language_info": {
      "codemirror_mode": {
        "name": "ipython",
        "version": 3
      },
      "file_extension": ".py",
      "mimetype": "text/x-python",
      "name": "python",
      "nbconvert_exporter": "python",
      "pygments_lexer": "ipython3",
      "version": "3.7.1"
    },
    "colab": {
      "provenance": [],
      "gpuType": "T4",
      "include_colab_link": true
    },
    "accelerator": "GPU"
  },
  "cells": [
    {
      "cell_type": "markdown",
      "metadata": {
        "id": "view-in-github",
        "colab_type": "text"
      },
      "source": [
        "<a href=\"https://colab.research.google.com/github/tisma/tf-learn/blob/master/Saving%20and%20loading%20models%2C%20with%20application%20to%20the%20EuroSat%20dataset.ipynb\" target=\"_parent\"><img src=\"https://colab.research.google.com/assets/colab-badge.svg\" alt=\"Open In Colab\"/></a>"
      ]
    },
    {
      "cell_type": "markdown",
      "metadata": {
        "id": "j-l3gabVzlB-"
      },
      "source": [
        "# Programming Assignment\n",
        "\n",
        "## Saving and loading models, with application to the EuroSat dataset\n",
        "\n",
        "### Instructions\n",
        "\n",
        "In this notebook, you will create a neural network that classifies land uses and land covers from satellite imagery. You will save your model using Tensorflow's callbacks and reload it later. You will also load in a pre-trained neural network classifier and compare performance with it.\n",
        "\n",
        "Some code cells are provided for you in the notebook. You should avoid editing provided code, and make sure to execute the cells in order to avoid unexpected errors. Some cells begin with the line:\n",
        "\n",
        "`#### GRADED CELL ####`\n",
        "\n",
        "Don't move or edit this first line - this is what the automatic grader looks for to recognise graded cells. These cells require you to write your own code to complete them, and are automatically graded when you submit the notebook. Don't edit the function name or signature provided in these cells, otherwise the automatic grader might not function properly. Inside these graded cells, you can use any functions or classes that are imported below, but make sure you don't use any variables that are outside the scope of the function.\n",
        "\n",
        "### How to submit\n",
        "\n",
        "Complete all the tasks you are asked for in the worksheet. When you have finished and are happy with your code, press the **Submit Assignment** button at the top of this notebook.\n",
        "\n",
        "### Let's get started!\n",
        "\n",
        "We'll start running some imports, and loading the dataset. Do not edit the existing imports in the following cell. If you would like to make further Tensorflow imports, you should add them here."
      ]
    },
    {
      "cell_type": "code",
      "metadata": {
        "id": "TtZFzBJTzlCC"
      },
      "source": [
        "#### PACKAGE IMPORTS ####\n",
        "\n",
        "# Run this cell first to import all required packages. Do not make any imports elsewhere in the notebook\n",
        "\n",
        "import tensorflow as tf\n",
        "from tensorflow.keras.preprocessing.image import load_img, img_to_array\n",
        "from tensorflow.keras.models import Sequential, load_model\n",
        "from tensorflow.keras.layers import Dense, Flatten, Conv2D, MaxPooling2D\n",
        "from tensorflow.keras.callbacks import ModelCheckpoint, EarlyStopping\n",
        "import os\n",
        "import numpy as np\n",
        "import pandas as pd\n",
        "\n",
        "# If you would like to make further imports from tensorflow, add them here\n",
        "\n"
      ],
      "execution_count": 1,
      "outputs": []
    },
    {
      "cell_type": "markdown",
      "metadata": {
        "id": "qUYE18LozlCG"
      },
      "source": [
        "#### The EuroSAT dataset\n",
        "\n",
        "In this assignment, you will use the [EuroSAT dataset](https://github.com/phelber/EuroSAT). It consists of 27000 labelled Sentinel-2 satellite images of different land uses: residential, industrial, highway, river, forest, pasture, herbaceous vegetation, annual crop, permanent crop and sea/lake. For a reference, see the following papers:\n",
        "- Eurosat: A novel dataset and deep learning benchmark for land use and land cover classification. Patrick Helber, Benjamin Bischke, Andreas Dengel, Damian Borth. IEEE Journal of Selected Topics in Applied Earth Observations and Remote Sensing, 2019.\n",
        "- Introducing EuroSAT: A Novel Dataset and Deep Learning Benchmark for Land Use and Land Cover Classification. Patrick Helber, Benjamin Bischke, Andreas Dengel. 2018 IEEE International Geoscience and Remote Sensing Symposium, 2018.\n",
        "\n",
        "Your goal is to construct a neural network that classifies a satellite image into one of these 10 classes, as well as applying some of the saving and loading techniques you have learned in the previous sessions."
      ]
    },
    {
      "cell_type": "markdown",
      "metadata": {
        "id": "jgcHEE-HzlCH"
      },
      "source": [
        "#### Import the data\n",
        "\n",
        "The dataset you will train your model on is a subset of the total data, with 4000 training images and 1000 testing images, with roughly equal numbers of each class.\n",
        "The train and test datasets required for this project can be downloaded from the following links:\n",
        "\n",
        "`x_train`: https://drive.google.com/open?id=1cUaIEd9-MLJHFGjLz5QziNvfBtYygplX\n",
        "\n",
        "`y_train`: https://drive.google.com/open?id=1hv24Ufiio9rBeSqgnNoM3dr5sVGwOmBy\n",
        "\n",
        "`x_test`: https://drive.google.com/open?id=1AH9lKHT5P2oQLz8SGMRPWs_M9wIM2ZRH\n",
        "\n",
        "`y_test`: https://drive.google.com/open?id=1i4_azocSDuU3TcDf3OSHO1vF0D5-xMU6\n",
        "\n",
        "You should store these files in Drive for use in this Colab notebook."
      ]
    },
    {
      "cell_type": "code",
      "metadata": {
        "id": "vOR1caL86NHI",
        "colab": {
          "base_uri": "https://localhost:8080/"
        },
        "outputId": "fc9b5704-08fa-440b-c4d0-64152b2e766c"
      },
      "source": [
        "# Run this cell to connect to your Drive folder\n",
        "\n",
        "from google.colab import drive\n",
        "drive.mount('/content/gdrive')\n"
      ],
      "execution_count": 2,
      "outputs": [
        {
          "output_type": "stream",
          "name": "stdout",
          "text": [
            "Mounted at /content/gdrive\n"
          ]
        }
      ]
    },
    {
      "cell_type": "code",
      "source": [
        "!ls /content/gdrive/MyDrive/eurosat/\n"
      ],
      "metadata": {
        "colab": {
          "base_uri": "https://localhost:8080/"
        },
        "id": "fdrSQgttKlYz",
        "outputId": "c98c5ef8-d5dc-4460-cafe-82f074c461c6"
      },
      "execution_count": 10,
      "outputs": [
        {
          "output_type": "stream",
          "name": "stdout",
          "text": [
            "Files.zip  x_test.npy  x_train.npy  y_test.npy\ty_train.npy\n"
          ]
        }
      ]
    },
    {
      "cell_type": "code",
      "metadata": {
        "id": "EqQfoHd-zlCI"
      },
      "source": [
        "# Import the Eurosat data from your Drive folder\n",
        "\n",
        "def load_eurosat_data():\n",
        "    x_train = np.load('/content/gdrive/MyDrive/eurosat/x_train.npy')\n",
        "    y_train = np.load('/content/gdrive/MyDrive/eurosat/y_train.npy')\n",
        "    x_test  = np.load('/content/gdrive/MyDrive/eurosat/x_test.npy')\n",
        "    y_test  = np.load('/content/gdrive/MyDrive/eurosat/y_test.npy')\n",
        "    return (x_train, y_train), (x_test, y_test)\n",
        "\n",
        "(x_train, y_train), (x_test, y_test) = load_eurosat_data()\n",
        "x_train = x_train / 255.0\n",
        "x_test = x_test / 255.0"
      ],
      "execution_count": 11,
      "outputs": []
    },
    {
      "cell_type": "markdown",
      "metadata": {
        "id": "afGjcvB3zlCL"
      },
      "source": [
        "#### Build the neural network model"
      ]
    },
    {
      "cell_type": "markdown",
      "metadata": {
        "id": "Qv0kHsBozlCM"
      },
      "source": [
        "You can now construct a model to fit to the data. Using the Sequential API, build your model according to the following specifications:\n",
        "\n",
        "* The model should use the input_shape in the function argument to set the input size in the first layer.\n",
        "* The first layer should be a Conv2D layer with 16 filters, a 3x3 kernel size, a ReLU activation function and 'SAME' padding. Name this layer 'conv_1'.\n",
        "* The second layer should also be a Conv2D layer with 8 filters, a 3x3 kernel size, a ReLU activation function and 'SAME' padding. Name this layer 'conv_2'.\n",
        "* The third layer should be a MaxPooling2D layer with a pooling window size of 8x8. Name this layer 'pool_1'.\n",
        "* The fourth layer should be a Flatten layer, named 'flatten'.\n",
        "* The fifth layer should be a Dense layer with 32 units, a ReLU activation. Name this layer 'dense_1'.\n",
        "* The sixth and final layer should be a Dense layer with 10 units and softmax activation. Name this layer 'dense_2'.\n",
        "\n",
        "In total, the network should have 6 layers."
      ]
    },
    {
      "cell_type": "code",
      "metadata": {
        "id": "H84-I9P5zlCN"
      },
      "source": [
        "#### GRADED CELL ####\n",
        "\n",
        "# Complete the following function.\n",
        "# Make sure to not change the function name or arguments.\n",
        "\n",
        "def get_new_model(input_shape):\n",
        "    \"\"\"\n",
        "    This function should build a Sequential model according to the above specification. Ensure the\n",
        "    weights are initialised by providing the input_shape argument in the first layer, given by the\n",
        "    function argument.\n",
        "    Your function should also compile the model with the Adam optimiser, sparse categorical cross\n",
        "    entropy loss function, and a single accuracy metric.\n",
        "    \"\"\"\n",
        "    model = Sequential([\n",
        "        Conv2D(filters=16, kernel_size=3, activation='relu', padding='same', name='conv_1', input_shape=input_shape),\n",
        "        Conv2D(filters=8, kernel_size=3, activation='relu', padding='same', name='conv_2'),\n",
        "        MaxPooling2D(pool_size=8, name='pool_1'),\n",
        "        Flatten(name='flatten'),\n",
        "        Dense(units=32, activation='relu', name='dense_1'),\n",
        "        Dense(units=10, activation='softmax', name='dense_2')\n",
        "    ])\n",
        "\n",
        "    model.compile(optimizer='adam', loss='sparse_categorical_crossentropy', metrics=['accuracy'])\n",
        "\n",
        "    return model\n",
        "\n"
      ],
      "execution_count": 12,
      "outputs": []
    },
    {
      "cell_type": "markdown",
      "metadata": {
        "id": "tx6dXvwOzlCQ"
      },
      "source": [
        "#### Compile and evaluate the model"
      ]
    },
    {
      "cell_type": "code",
      "metadata": {
        "id": "5BHOQzT5zlCR"
      },
      "source": [
        "# Run your function to create the model\n",
        "model = get_new_model(x_train[0].shape)"
      ],
      "execution_count": 13,
      "outputs": []
    },
    {
      "cell_type": "code",
      "metadata": {
        "id": "--aE05n8zlCV"
      },
      "source": [
        "# Run this cell to define a function to evaluate a model's test accuracy\n",
        "\n",
        "def get_test_accuracy(model, x_test, y_test):\n",
        "    \"\"\"Test model classification accuracy\"\"\"\n",
        "    test_loss, test_acc = model.evaluate(x=x_test, y=y_test, verbose=0)\n",
        "    print('accuracy: {acc:0.3f}'.format(acc=test_acc))"
      ],
      "execution_count": 14,
      "outputs": []
    },
    {
      "cell_type": "code",
      "metadata": {
        "id": "4ezcwMrNzlCd",
        "colab": {
          "base_uri": "https://localhost:8080/"
        },
        "outputId": "3fa83d4f-5644-455e-bf35-2bb111658c76"
      },
      "source": [
        "# Print the model summary and calculate its initialised test accuracy\n",
        "\n",
        "model.summary()\n",
        "get_test_accuracy(model, x_test, y_test)"
      ],
      "execution_count": 15,
      "outputs": [
        {
          "output_type": "stream",
          "name": "stdout",
          "text": [
            "Model: \"sequential\"\n",
            "_________________________________________________________________\n",
            " Layer (type)                Output Shape              Param #   \n",
            "=================================================================\n",
            " conv_1 (Conv2D)             (None, 64, 64, 16)        448       \n",
            "                                                                 \n",
            " conv_2 (Conv2D)             (None, 64, 64, 8)         1160      \n",
            "                                                                 \n",
            " pool_1 (MaxPooling2D)       (None, 8, 8, 8)           0         \n",
            "                                                                 \n",
            " flatten (Flatten)           (None, 512)               0         \n",
            "                                                                 \n",
            " dense_1 (Dense)             (None, 32)                16416     \n",
            "                                                                 \n",
            " dense_2 (Dense)             (None, 10)                330       \n",
            "                                                                 \n",
            "=================================================================\n",
            "Total params: 18354 (71.70 KB)\n",
            "Trainable params: 18354 (71.70 KB)\n",
            "Non-trainable params: 0 (0.00 Byte)\n",
            "_________________________________________________________________\n",
            "accuracy: 0.098\n"
          ]
        }
      ]
    },
    {
      "cell_type": "markdown",
      "metadata": {
        "id": "pfIdxbQWzlCg"
      },
      "source": [
        "#### Create checkpoints to save model during training, with a criterion\n",
        "\n",
        "You will now create three callbacks:\n",
        "- `checkpoint_every_epoch`: checkpoint that saves the model weights every epoch during training\n",
        "- `checkpoint_best_only`: checkpoint that saves only the weights with the highest validation accuracy. Use the testing data as the validation data.\n",
        "- `early_stopping`: early stopping object that ends training if the validation accuracy has not improved in 3 epochs."
      ]
    },
    {
      "cell_type": "code",
      "metadata": {
        "id": "ccQU2HMGzlCh"
      },
      "source": [
        "#### GRADED CELL ####\n",
        "\n",
        "# Complete the following functions.\n",
        "# Make sure to not change the function names or arguments.\n",
        "\n",
        "def get_checkpoint_every_epoch():\n",
        "    \"\"\"\n",
        "    This function should return a ModelCheckpoint object that:\n",
        "    - saves the weights only at the end of every epoch\n",
        "    - saves into a directory called 'checkpoints_every_epoch' inside the current working directory\n",
        "    - generates filenames in that directory like 'checkpoint_XXX' where\n",
        "      XXX is the epoch number formatted to have three digits, e.g. 001, 002, 003, etc.\n",
        "    \"\"\"\n",
        "    checkpoint_path = 'checkpoints_every_epoch/checkpoint_{epoch:03d}'\n",
        "    checkpoint = ModelCheckpoint(filepath=checkpoint_path,\n",
        "                                 save_weights_only=True,\n",
        "                                 save_freq='epoch',\n",
        "                                 verbose=1)\n",
        "    return checkpoint\n",
        "\n",
        "\n",
        "\n",
        "\n",
        "def get_checkpoint_best_only():\n",
        "    \"\"\"\n",
        "    This function should return a ModelCheckpoint object that:\n",
        "    - saves only the weights that generate the highest validation (testing) accuracy\n",
        "    - saves into a directory called 'checkpoints_best_only' inside the current working directory\n",
        "    - generates a file called 'checkpoints_best_only/checkpoint'\n",
        "    \"\"\"\n",
        "    checkpoint_path = 'checkpoints_best_only/checkpoint'\n",
        "    checkpoint = ModelCheckpoint(filepath=checkpoint_path,\n",
        "                                 monitor = 'val_accuracy',\n",
        "                                 mode='max',\n",
        "                                 save_best_only=True,\n",
        "                                 save_weights_only=True,\n",
        "                                 save_freq='epoch',\n",
        "                                 verbose=1)\n",
        "\n",
        "    return checkpoint\n",
        "\n"
      ],
      "execution_count": 16,
      "outputs": []
    },
    {
      "cell_type": "code",
      "metadata": {
        "id": "RjYKmcXMzlCj"
      },
      "source": [
        "#### GRADED CELL ####\n",
        "\n",
        "# Complete the following function.\n",
        "# Make sure to not change the function name or arguments.\n",
        "\n",
        "def get_early_stopping():\n",
        "    \"\"\"\n",
        "    This function should return an EarlyStopping callback that stops training when\n",
        "    the validation (testing) accuracy has not improved in the last 3 epochs.\n",
        "    HINT: use the EarlyStopping callback with the correct 'monitor' and 'patience'\n",
        "    \"\"\"\n",
        "    checkpoint = EarlyStopping(monitor='val_accuracy', patience=3)\n",
        "\n",
        "    return checkpoint\n",
        "\n"
      ],
      "execution_count": 17,
      "outputs": []
    },
    {
      "cell_type": "code",
      "metadata": {
        "id": "jplngS9izlCn"
      },
      "source": [
        "# Run this cell to create the callbacks\n",
        "\n",
        "checkpoint_every_epoch = get_checkpoint_every_epoch()\n",
        "checkpoint_best_only = get_checkpoint_best_only()\n",
        "early_stopping = get_early_stopping()"
      ],
      "execution_count": 18,
      "outputs": []
    },
    {
      "cell_type": "markdown",
      "metadata": {
        "id": "m8DdH7hdzlCp"
      },
      "source": [
        "#### Train model using the callbacks\n",
        "\n",
        "Now, you will train the model using the three callbacks you created. If you created the callbacks correctly, three things should happen:\n",
        "- At the end of every epoch, the model weights are saved into a directory called `checkpoints_every_epoch`\n",
        "- At the end of every epoch, the model weights are saved into a directory called `checkpoints_best_only` **only** if those weights lead to the highest test accuracy\n",
        "- Training stops when the testing accuracy has not improved in three epochs.\n",
        "\n",
        "You should then have two directories:\n",
        "- A directory called `checkpoints_every_epoch` containing filenames that include `checkpoint_001`, `checkpoint_002`, etc with the `001`, `002` corresponding to the epoch\n",
        "- A directory called `checkpoints_best_only` containing filenames that include `checkpoint`, which contain only the weights leading to the highest testing accuracy"
      ]
    },
    {
      "cell_type": "code",
      "metadata": {
        "id": "IG329dBszlCq",
        "colab": {
          "base_uri": "https://localhost:8080/"
        },
        "outputId": "88960dca-bb0e-4254-aa49-b798e423a89f"
      },
      "source": [
        "# Train model using the callbacks you just created\n",
        "\n",
        "callbacks = [checkpoint_every_epoch, checkpoint_best_only, early_stopping]\n",
        "model.fit(x_train, y_train, epochs=50, validation_data=(x_test, y_test), callbacks=callbacks)"
      ],
      "execution_count": 19,
      "outputs": [
        {
          "output_type": "stream",
          "name": "stdout",
          "text": [
            "Epoch 1/50\n",
            "116/125 [==========================>...] - ETA: 0s - loss: 2.0925 - accuracy: 0.2058\n",
            "Epoch 1: saving model to checkpoints_every_epoch/checkpoint_001\n",
            "\n",
            "Epoch 1: val_accuracy improved from -inf to 0.35200, saving model to checkpoints_best_only/checkpoint\n",
            "125/125 [==============================] - 5s 8ms/step - loss: 2.0734 - accuracy: 0.2173 - val_loss: 1.8245 - val_accuracy: 0.3520\n",
            "Epoch 2/50\n",
            "118/125 [===========================>..] - ETA: 0s - loss: 1.5189 - accuracy: 0.4200\n",
            "Epoch 2: saving model to checkpoints_every_epoch/checkpoint_002\n",
            "\n",
            "Epoch 2: val_accuracy improved from 0.35200 to 0.39400, saving model to checkpoints_best_only/checkpoint\n",
            "125/125 [==============================] - 1s 6ms/step - loss: 1.5128 - accuracy: 0.4202 - val_loss: 1.4668 - val_accuracy: 0.3940\n",
            "Epoch 3/50\n",
            "118/125 [===========================>..] - ETA: 0s - loss: 1.3064 - accuracy: 0.4915\n",
            "Epoch 3: saving model to checkpoints_every_epoch/checkpoint_003\n",
            "\n",
            "Epoch 3: val_accuracy improved from 0.39400 to 0.48700, saving model to checkpoints_best_only/checkpoint\n",
            "125/125 [==============================] - 1s 6ms/step - loss: 1.3052 - accuracy: 0.4882 - val_loss: 1.3167 - val_accuracy: 0.4870\n",
            "Epoch 4/50\n",
            "116/125 [==========================>...] - ETA: 0s - loss: 1.2247 - accuracy: 0.5318\n",
            "Epoch 4: saving model to checkpoints_every_epoch/checkpoint_004\n",
            "\n",
            "Epoch 4: val_accuracy improved from 0.48700 to 0.56500, saving model to checkpoints_best_only/checkpoint\n",
            "125/125 [==============================] - 1s 6ms/step - loss: 1.2234 - accuracy: 0.5337 - val_loss: 1.2298 - val_accuracy: 0.5650\n",
            "Epoch 5/50\n",
            "115/125 [==========================>...] - ETA: 0s - loss: 1.1460 - accuracy: 0.5717\n",
            "Epoch 5: saving model to checkpoints_every_epoch/checkpoint_005\n",
            "\n",
            "Epoch 5: val_accuracy did not improve from 0.56500\n",
            "125/125 [==============================] - 1s 6ms/step - loss: 1.1520 - accuracy: 0.5692 - val_loss: 1.2353 - val_accuracy: 0.5520\n",
            "Epoch 6/50\n",
            "122/125 [============================>.] - ETA: 0s - loss: 1.0867 - accuracy: 0.6076\n",
            "Epoch 6: saving model to checkpoints_every_epoch/checkpoint_006\n",
            "\n",
            "Epoch 6: val_accuracy improved from 0.56500 to 0.62700, saving model to checkpoints_best_only/checkpoint\n",
            "125/125 [==============================] - 1s 6ms/step - loss: 1.0847 - accuracy: 0.6087 - val_loss: 1.0849 - val_accuracy: 0.6270\n",
            "Epoch 7/50\n",
            "120/125 [===========================>..] - ETA: 0s - loss: 1.0147 - accuracy: 0.6424\n",
            "Epoch 7: saving model to checkpoints_every_epoch/checkpoint_007\n",
            "\n",
            "Epoch 7: val_accuracy improved from 0.62700 to 0.63400, saving model to checkpoints_best_only/checkpoint\n",
            "125/125 [==============================] - 1s 6ms/step - loss: 1.0156 - accuracy: 0.6420 - val_loss: 1.0768 - val_accuracy: 0.6340\n",
            "Epoch 8/50\n",
            "118/125 [===========================>..] - ETA: 0s - loss: 0.9404 - accuracy: 0.6716\n",
            "Epoch 8: saving model to checkpoints_every_epoch/checkpoint_008\n",
            "\n",
            "Epoch 8: val_accuracy improved from 0.63400 to 0.63600, saving model to checkpoints_best_only/checkpoint\n",
            "125/125 [==============================] - 1s 6ms/step - loss: 0.9447 - accuracy: 0.6693 - val_loss: 1.0379 - val_accuracy: 0.6360\n",
            "Epoch 9/50\n",
            "125/125 [==============================] - ETA: 0s - loss: 0.8956 - accuracy: 0.6800\n",
            "Epoch 9: saving model to checkpoints_every_epoch/checkpoint_009\n",
            "\n",
            "Epoch 9: val_accuracy improved from 0.63600 to 0.65400, saving model to checkpoints_best_only/checkpoint\n",
            "125/125 [==============================] - 1s 7ms/step - loss: 0.8956 - accuracy: 0.6800 - val_loss: 0.9840 - val_accuracy: 0.6540\n",
            "Epoch 10/50\n",
            "115/125 [==========================>...] - ETA: 0s - loss: 0.8554 - accuracy: 0.6995\n",
            "Epoch 10: saving model to checkpoints_every_epoch/checkpoint_010\n",
            "\n",
            "Epoch 10: val_accuracy improved from 0.65400 to 0.67000, saving model to checkpoints_best_only/checkpoint\n",
            "125/125 [==============================] - 1s 7ms/step - loss: 0.8551 - accuracy: 0.6980 - val_loss: 0.9178 - val_accuracy: 0.6700\n",
            "Epoch 11/50\n",
            "116/125 [==========================>...] - ETA: 0s - loss: 0.8122 - accuracy: 0.7077\n",
            "Epoch 11: saving model to checkpoints_every_epoch/checkpoint_011\n",
            "\n",
            "Epoch 11: val_accuracy improved from 0.67000 to 0.69500, saving model to checkpoints_best_only/checkpoint\n",
            "125/125 [==============================] - 1s 8ms/step - loss: 0.8185 - accuracy: 0.7050 - val_loss: 0.8746 - val_accuracy: 0.6950\n",
            "Epoch 12/50\n",
            "120/125 [===========================>..] - ETA: 0s - loss: 0.7941 - accuracy: 0.7143\n",
            "Epoch 12: saving model to checkpoints_every_epoch/checkpoint_012\n",
            "\n",
            "Epoch 12: val_accuracy did not improve from 0.69500\n",
            "125/125 [==============================] - 1s 7ms/step - loss: 0.7962 - accuracy: 0.7135 - val_loss: 0.8793 - val_accuracy: 0.6870\n",
            "Epoch 13/50\n",
            "119/125 [===========================>..] - ETA: 0s - loss: 0.7585 - accuracy: 0.7348\n",
            "Epoch 13: saving model to checkpoints_every_epoch/checkpoint_013\n",
            "\n",
            "Epoch 13: val_accuracy did not improve from 0.69500\n",
            "125/125 [==============================] - 1s 7ms/step - loss: 0.7602 - accuracy: 0.7327 - val_loss: 0.8737 - val_accuracy: 0.6770\n",
            "Epoch 14/50\n",
            "119/125 [===========================>..] - ETA: 0s - loss: 0.7606 - accuracy: 0.7243\n",
            "Epoch 14: saving model to checkpoints_every_epoch/checkpoint_014\n",
            "\n",
            "Epoch 14: val_accuracy improved from 0.69500 to 0.70700, saving model to checkpoints_best_only/checkpoint\n",
            "125/125 [==============================] - 1s 6ms/step - loss: 0.7616 - accuracy: 0.7230 - val_loss: 0.8370 - val_accuracy: 0.7070\n",
            "Epoch 15/50\n",
            "122/125 [============================>.] - ETA: 0s - loss: 0.7453 - accuracy: 0.7305\n",
            "Epoch 15: saving model to checkpoints_every_epoch/checkpoint_015\n",
            "\n",
            "Epoch 15: val_accuracy did not improve from 0.70700\n",
            "125/125 [==============================] - 1s 6ms/step - loss: 0.7417 - accuracy: 0.7320 - val_loss: 0.8778 - val_accuracy: 0.6720\n",
            "Epoch 16/50\n",
            "120/125 [===========================>..] - ETA: 0s - loss: 0.7311 - accuracy: 0.7315\n",
            "Epoch 16: saving model to checkpoints_every_epoch/checkpoint_016\n",
            "\n",
            "Epoch 16: val_accuracy did not improve from 0.70700\n",
            "125/125 [==============================] - 1s 6ms/step - loss: 0.7313 - accuracy: 0.7312 - val_loss: 0.8381 - val_accuracy: 0.6960\n",
            "Epoch 17/50\n",
            "121/125 [============================>.] - ETA: 0s - loss: 0.6946 - accuracy: 0.7441\n",
            "Epoch 17: saving model to checkpoints_every_epoch/checkpoint_017\n",
            "\n",
            "Epoch 17: val_accuracy did not improve from 0.70700\n",
            "125/125 [==============================] - 1s 6ms/step - loss: 0.6947 - accuracy: 0.7440 - val_loss: 0.8181 - val_accuracy: 0.6910\n"
          ]
        },
        {
          "output_type": "execute_result",
          "data": {
            "text/plain": [
              "<keras.src.callbacks.History at 0x7d96760a08e0>"
            ]
          },
          "metadata": {},
          "execution_count": 19
        }
      ]
    },
    {
      "cell_type": "markdown",
      "metadata": {
        "id": "tKEb0lQ9zlCt"
      },
      "source": [
        "#### Create new instance of model and load on both sets of weights\n",
        "\n",
        "Now you will use the weights you just saved in a fresh model. You should create two functions, both of which take a freshly instantiated model instance:\n",
        "- `model_last_epoch` should contain the weights from the latest saved epoch\n",
        "- `model_best_epoch` should contain the weights from the saved epoch with the highest testing accuracy\n",
        "\n",
        "_Hint: use the_ `tf.train.latest_checkpoint` _function to get the filename of the latest saved checkpoint file. Check the docs_ [_here_](https://www.tensorflow.org/api_docs/python/tf/train/latest_checkpoint)."
      ]
    },
    {
      "cell_type": "code",
      "metadata": {
        "id": "nokhxEntzlCu"
      },
      "source": [
        "#### GRADED CELL ####\n",
        "\n",
        "# Complete the following functions.\n",
        "# Make sure to not change the function name or arguments.\n",
        "\n",
        "def get_model_last_epoch(model):\n",
        "    \"\"\"\n",
        "    This function should create a new instance of the CNN you created earlier,\n",
        "    load on the weights from the last training epoch, and return this model.\n",
        "    \"\"\"\n",
        "    model.load_weights(tf.train.latest_checkpoint(checkpoint_dir='checkpoints_every_epoch'))\n",
        "    return model\n",
        "\n",
        "\n",
        "\n",
        "def get_model_best_epoch(model):\n",
        "    \"\"\"\n",
        "    This function should create a new instance of the CNN you created earlier, load\n",
        "    on the weights leading to the highest validation accuracy, and return this model.\n",
        "    \"\"\"\n",
        "    model.load_weights('checkpoints_best_only/checkpoint')\n",
        "    return model\n",
        "\n"
      ],
      "execution_count": 26,
      "outputs": []
    },
    {
      "cell_type": "code",
      "metadata": {
        "id": "N0BEAOZYzlCx",
        "colab": {
          "base_uri": "https://localhost:8080/"
        },
        "outputId": "c7b05f69-0914-4352-dfa8-3e184f82619f"
      },
      "source": [
        "# Run this cell to create two models: one with the weights from the last training\n",
        "# epoch, and one wiht the weights leading to the highest validation (testing) accuracy.\n",
        "# Verify that the second has a higher validation (testing) accuarcy.\n",
        "\n",
        "model_last_epoch = get_model_last_epoch(get_new_model(x_train[0].shape))\n",
        "model_best_epoch = get_model_best_epoch(get_new_model(x_train[0].shape))\n",
        "print('Model with last epoch weights:')\n",
        "get_test_accuracy(model_last_epoch, x_test, y_test)\n",
        "print('')\n",
        "print('Model with best epoch weights:')\n",
        "get_test_accuracy(model_best_epoch, x_test, y_test)"
      ],
      "execution_count": 27,
      "outputs": [
        {
          "output_type": "stream",
          "name": "stderr",
          "text": [
            "WARNING:tensorflow:Detecting that an object or model or tf.train.Checkpoint is being deleted with unrestored values. See the following logs for the specific values in question. To silence these warnings, use `status.expect_partial()`. See https://www.tensorflow.org/api_docs/python/tf/train/Checkpoint#restorefor details about the status object returned by the restore function.\n",
            "WARNING:tensorflow:Value in checkpoint could not be found in the restored object: (root).optimizer._variables.1\n",
            "WARNING:tensorflow:Value in checkpoint could not be found in the restored object: (root).optimizer._variables.2\n",
            "WARNING:tensorflow:Value in checkpoint could not be found in the restored object: (root).optimizer._variables.3\n",
            "WARNING:tensorflow:Value in checkpoint could not be found in the restored object: (root).optimizer._variables.4\n",
            "WARNING:tensorflow:Value in checkpoint could not be found in the restored object: (root).optimizer._variables.5\n",
            "WARNING:tensorflow:Value in checkpoint could not be found in the restored object: (root).optimizer._variables.6\n",
            "WARNING:tensorflow:Value in checkpoint could not be found in the restored object: (root).optimizer._variables.7\n",
            "WARNING:tensorflow:Value in checkpoint could not be found in the restored object: (root).optimizer._variables.8\n",
            "WARNING:tensorflow:Value in checkpoint could not be found in the restored object: (root).optimizer._variables.9\n",
            "WARNING:tensorflow:Value in checkpoint could not be found in the restored object: (root).optimizer._variables.10\n",
            "WARNING:tensorflow:Value in checkpoint could not be found in the restored object: (root).optimizer._variables.11\n",
            "WARNING:tensorflow:Value in checkpoint could not be found in the restored object: (root).optimizer._variables.12\n",
            "WARNING:tensorflow:Value in checkpoint could not be found in the restored object: (root).optimizer._variables.13\n",
            "WARNING:tensorflow:Value in checkpoint could not be found in the restored object: (root).optimizer._variables.14\n",
            "WARNING:tensorflow:Value in checkpoint could not be found in the restored object: (root).optimizer._variables.15\n",
            "WARNING:tensorflow:Value in checkpoint could not be found in the restored object: (root).optimizer._variables.16\n"
          ]
        },
        {
          "output_type": "stream",
          "name": "stdout",
          "text": [
            "Model with last epoch weights:\n",
            "accuracy: 0.691\n",
            "\n",
            "Model with best epoch weights:\n",
            "accuracy: 0.707\n"
          ]
        }
      ]
    },
    {
      "cell_type": "markdown",
      "metadata": {
        "id": "5AESpayizlC1"
      },
      "source": [
        "#### Load, from scratch, a model trained on the EuroSat dataset.\n",
        "\n",
        "In your workspace, you will find another model trained on the `EuroSAT` dataset in `.h5` format. This model is trained on a larger subset of the EuroSAT dataset and has a more complex architecture. The path to the model is `models/EuroSatNet.h5`. See how its testing accuracy compares to your model!"
      ]
    },
    {
      "cell_type": "code",
      "metadata": {
        "id": "KiUKJYebzlC2"
      },
      "source": [
        "#### GRADED CELL ####\n",
        "\n",
        "# Complete the following functions.\n",
        "# Make sure to not change the function name or arguments.\n",
        "\n",
        "def get_model_eurosatnet():\n",
        "    \"\"\"\n",
        "    This function should return the pretrained EuroSatNet.h5 model.\n",
        "    \"\"\"\n",
        "    model = load_model('/content/gdrive/MyDrive/eurosat/EuroSatNet.h5')\n",
        "    return model\n",
        "\n"
      ],
      "execution_count": 30,
      "outputs": []
    },
    {
      "cell_type": "code",
      "metadata": {
        "id": "EEzAQ3yRzlC6",
        "colab": {
          "base_uri": "https://localhost:8080/"
        },
        "outputId": "9b1355ab-eda2-4c6e-ca1c-842cdfd18622"
      },
      "source": [
        "# Run this cell to print a summary of the EuroSatNet model, along with its validation accuracy.\n",
        "\n",
        "model_eurosatnet = get_model_eurosatnet()\n",
        "model_eurosatnet.summary()\n",
        "get_test_accuracy(model_eurosatnet, x_test, y_test)"
      ],
      "execution_count": 31,
      "outputs": [
        {
          "output_type": "stream",
          "name": "stdout",
          "text": [
            "Model: \"sequential_21\"\n",
            "_________________________________________________________________\n",
            " Layer (type)                Output Shape              Param #   \n",
            "=================================================================\n",
            " conv_1 (Conv2D)             (None, 64, 64, 16)        448       \n",
            "                                                                 \n",
            " conv_2 (Conv2D)             (None, 64, 64, 16)        6416      \n",
            "                                                                 \n",
            " pool_1 (MaxPooling2D)       (None, 32, 32, 16)        0         \n",
            "                                                                 \n",
            " conv_3 (Conv2D)             (None, 32, 32, 16)        2320      \n",
            "                                                                 \n",
            " conv_4 (Conv2D)             (None, 32, 32, 16)        6416      \n",
            "                                                                 \n",
            " pool_2 (MaxPooling2D)       (None, 16, 16, 16)        0         \n",
            "                                                                 \n",
            " conv_5 (Conv2D)             (None, 16, 16, 16)        2320      \n",
            "                                                                 \n",
            " conv_6 (Conv2D)             (None, 16, 16, 16)        6416      \n",
            "                                                                 \n",
            " pool_3 (MaxPooling2D)       (None, 8, 8, 16)          0         \n",
            "                                                                 \n",
            " conv_7 (Conv2D)             (None, 8, 8, 16)          2320      \n",
            "                                                                 \n",
            " conv_8 (Conv2D)             (None, 8, 8, 16)          6416      \n",
            "                                                                 \n",
            " pool_4 (MaxPooling2D)       (None, 4, 4, 16)          0         \n",
            "                                                                 \n",
            " flatten (Flatten)           (None, 256)               0         \n",
            "                                                                 \n",
            " dense_1 (Dense)             (None, 32)                8224      \n",
            "                                                                 \n",
            " dense_2 (Dense)             (None, 10)                330       \n",
            "                                                                 \n",
            "=================================================================\n",
            "Total params: 41626 (162.60 KB)\n",
            "Trainable params: 41626 (162.60 KB)\n",
            "Non-trainable params: 0 (0.00 Byte)\n",
            "_________________________________________________________________\n",
            "accuracy: 0.080\n"
          ]
        }
      ]
    },
    {
      "cell_type": "markdown",
      "metadata": {
        "id": "P9vIBFVWzlC-"
      },
      "source": [
        "Congratulations for completing this programming assignment! You're now ready to move on to the capstone project for this course."
      ]
    }
  ]
}